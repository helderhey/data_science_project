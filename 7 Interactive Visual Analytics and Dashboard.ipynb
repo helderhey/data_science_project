{
    "cells": [
        {
            "cell_type": "code",
            "execution_count": 1,
            "metadata": {},
            "outputs": [],
            "source": "# Import required libraries\nimport pandas as pd\nimport plotly.graph_objects as go\nimport plotly.express as px\nimport dash\nfrom dash import html\nfrom dash import dcc\nfrom dash.dependencies import Input, Output"
        },
        {
            "cell_type": "code",
            "execution_count": 2,
            "metadata": {},
            "outputs": [
                {
                    "data": {
                        "text/html": "<div>\n<style scoped>\n    .dataframe tbody tr th:only-of-type {\n        vertical-align: middle;\n    }\n\n    .dataframe tbody tr th {\n        vertical-align: top;\n    }\n\n    .dataframe thead th {\n        text-align: right;\n    }\n</style>\n<table border=\"1\" class=\"dataframe\">\n  <thead>\n    <tr style=\"text-align: right;\">\n      <th></th>\n      <th>Flight Number</th>\n      <th>Launch Site</th>\n      <th>class</th>\n      <th>Payload Mass (kg)</th>\n      <th>Booster Version</th>\n      <th>Booster Version Category</th>\n    </tr>\n  </thead>\n  <tbody>\n    <tr>\n      <th>0</th>\n      <td>1</td>\n      <td>CCAFS LC-40</td>\n      <td>0</td>\n      <td>0.0</td>\n      <td>F9 v1.0  B0003</td>\n      <td>v1.0</td>\n    </tr>\n    <tr>\n      <th>1</th>\n      <td>2</td>\n      <td>CCAFS LC-40</td>\n      <td>0</td>\n      <td>0.0</td>\n      <td>F9 v1.0  B0004</td>\n      <td>v1.0</td>\n    </tr>\n    <tr>\n      <th>2</th>\n      <td>3</td>\n      <td>CCAFS LC-40</td>\n      <td>0</td>\n      <td>525.0</td>\n      <td>F9 v1.0  B0005</td>\n      <td>v1.0</td>\n    </tr>\n    <tr>\n      <th>3</th>\n      <td>4</td>\n      <td>CCAFS LC-40</td>\n      <td>0</td>\n      <td>500.0</td>\n      <td>F9 v1.0  B0006</td>\n      <td>v1.0</td>\n    </tr>\n    <tr>\n      <th>4</th>\n      <td>5</td>\n      <td>CCAFS LC-40</td>\n      <td>0</td>\n      <td>677.0</td>\n      <td>F9 v1.0  B0007</td>\n      <td>v1.0</td>\n    </tr>\n  </tbody>\n</table>\n</div>",
                        "text/plain": "   Flight Number  Launch Site  class  Payload Mass (kg) Booster Version  \\\n0              1  CCAFS LC-40      0                0.0  F9 v1.0  B0003   \n1              2  CCAFS LC-40      0                0.0  F9 v1.0  B0004   \n2              3  CCAFS LC-40      0              525.0  F9 v1.0  B0005   \n3              4  CCAFS LC-40      0              500.0  F9 v1.0  B0006   \n4              5  CCAFS LC-40      0              677.0  F9 v1.0  B0007   \n\n  Booster Version Category  \n0                     v1.0  \n1                     v1.0  \n2                     v1.0  \n3                     v1.0  \n4                     v1.0  "
                    },
                    "execution_count": 2,
                    "metadata": {},
                    "output_type": "execute_result"
                }
            ],
            "source": "spacex_df =  pd.read_csv('https://cf-courses-data.s3.us.cloud-object-storage.appdomain.cloud/IBM-DS0321EN-SkillsNetwork/datasets/spacex_launch_dash.csv', index_col=False)\nspacex_df.drop(columns='Unnamed: 0', inplace=True)\nspacex_df.head()"
        },
        {
            "cell_type": "code",
            "execution_count": 3,
            "metadata": {},
            "outputs": [],
            "source": "max_payload = spacex_df['Payload Mass (kg)'].max()\nmin_payload = spacex_df['Payload Mass (kg)'].min()"
        },
        {
            "cell_type": "code",
            "execution_count": 4,
            "metadata": {},
            "outputs": [
                {
                    "data": {
                        "text/plain": "(56, 6)"
                    },
                    "execution_count": 4,
                    "metadata": {},
                    "output_type": "execute_result"
                }
            ],
            "source": "spacex_df.shape"
        },
        {
            "cell_type": "code",
            "execution_count": 5,
            "metadata": {},
            "outputs": [],
            "source": "# Create a dash application\nfrom cProfile import label\nfrom numpy import float64\n\n\napp = dash.Dash(__name__)\n\n# Create an app layout\napp.layout = html.Div(children=[html.H1('SpaceX Launch Records Dashboard',\n                                        style={'textAlign': 'center', 'color': '#503D36',\n                                               'font-size': 40}),\n                                # TASK 1: Add a dropdown list to enable Launch Site selection\n                                # The default select value is for ALL sites\n                                # dcc.Dropdown(id='site-dropdown',...)\n                                dcc.Dropdown(id='site-dropdown',\n                                             style={'font-size': 20},\n                                             options=[\n                                                 {'label': 'All Sites',\n                                                  'value': 'ALL'},\n                                                 {'label': 'CCAFS LC-40',\n                                                     'value': 'CCAFS LC-40'},\n                                                 {'label': 'VAFB SLC-4E',\n                                                     'value': 'VAFB SLC-4E'},\n                                                 {'label': 'KSC LC-39A',\n                                                     'value': 'KSC LC-39A'},\n                                                 {'label': 'CCAFS SLC-40',\n                                                  'value': 'CCAFS SLC-40'},\n                                             ],\n                                             value='ALL',\n                                             placeholder=\"Select a Launch Site here\",\n                                             searchable=True\n                                             ),\n                                html.Br(),\n\n                                # TASK 2: Add a pie chart to show the total successful launches count for all sites\n                                # If a specific launch site was selected, show the Success vs. Failed counts for the site\n                                html.Div(dcc.Graph(id='success-pie-chart')),\n\n                                html.Br(),\n\n                                html.P(\"Payload range (Kg):\",\n                                       style={'font-size': 20}),\n\n                                # TASK 3: Add a slider to select payload range\n                                # dcc.RangeSlider(id='payload-slider',...)\n\n                                dcc.RangeSlider(id='payload-slider',\n                                                min=0, max=10000, step=1000,\n                                                marks={0: {'label': '0', 'style': {'font-size': 23}},\n                                                       2500: {'label': '2,500', 'style': {'font-size': 23}},\n                                                       5000: {'label': '5,000', 'style': {'font-size': 23}},\n                                                       7500: {'label': '7,500', 'style': {'font-size': 23}},\n                                                       10000: {'label': '10,000', 'style': {'font-size': 23}},\n                                                       },\n                                                value=[min_payload, max_payload]),\n\n\n                                # TASK 4: Add a scatter chart to show the correlation between payload and launch success\n                                html.Div(\n                                    dcc.Graph(\n                                        id='success-payload-scatter-chart')\n),\n])\n\n# # Function decorator to specify function input and output\n\n\n@app.callback(Output(component_id='success-pie-chart', component_property='figure'),\n              Input(component_id='site-dropdown', component_property='value'))\ndef get_pie_chart(entered_site):\n    if entered_site == 'ALL':\n        spacex_df_class = spacex_df.groupby(\n            ['class'])['Launch Site'].count().reset_index()\n        fig = px.pie(spacex_df_class, values='Launch Site',\n                     names=['Failure', 'Success'],\n                     color=['Failure', 'Success'],\n                     color_discrete_map={'Success': 'blue',\n                                         'Failure': 'red'},\n                     title='Total Success Launches By Site'\n                     )\n        fig.update_traces(textposition='inside',\n                          textinfo='percent+label', textfont_size=20)\n        fig.update_layout(showlegend=False, margin=dict(t=0, b=0, l=0, r=0))\n        return fig\n    else:\n        # return the outcomes piechart for a selected site\n        spacex_df_class_ent = spacex_df[spacex_df['Launch Site'] == entered_site].groupby(\n            ['class'])['Launch Site'].count().reset_index()\n        fig = px.pie(spacex_df_class_ent, values='Launch Site',\n                     names=['Failure', 'Success'],\n                     color=['Failure', 'Success'],\n                     color_discrete_map={'Success': 'blue',\n                                         'Failure': 'red'},\n                     title='Total Success Launches By Site'\n                     )\n        fig.update_traces(textposition='inside',\n                          textinfo='percent+label', textfont_size=20)\n        fig.update_layout(showlegend=False, margin=dict(t=0, b=0, l=0, r=0))\n        return fig\n\n\n@app.callback(Output(component_id='success-payload-scatter-chart', component_property='figure'),\n              [Input(component_id='site-dropdown', component_property='value'),\n              Input(component_id=\"payload-slider\", component_property='value')])\ndef get_scatter_chart(entered_site, payload):\n    if entered_site == 'ALL':\n        spacex_df_sc = spacex_df[['Payload Mass (kg)', 'class', 'Booster Version Category', 'Launch Site']][(\n            spacex_df['Payload Mass (kg)'] <= payload[1]) & (spacex_df['Payload Mass (kg)'] >= payload[0])]\n        fig_s = px.scatter(spacex_df_sc,\n                           x='Payload Mass (kg)',\n                           y='class',\n                           color='Booster Version Category',\n                           title='Correlation Between Payload and Success for All Sites'\n                           )\n        fig_s.update_yaxes(dtick=1)\n        fig_s.update_xaxes(dtick=1000)\n        fig_s.update_layout(\n            font_size=23,\n            title_font_size=23)\n        fig_s.update_traces(marker=dict(size=12,\n                                        line=dict(width=2,\n                                                  color='DarkSlateGrey')),\n                            selector=dict(mode='markers'))\n        return fig_s\n    else:\n        spacex_df_sc = spacex_df[['Payload Mass (kg)', 'class', 'Booster Version Category', 'Launch Site']][(\n            spacex_df['Payload Mass (kg)'] <= payload[1]) & (spacex_df['Payload Mass (kg)'] >= payload[0]) & (spacex_df['Launch Site'] == entered_site)]\n        fig_s = px.scatter(spacex_df_sc,\n                           x='Payload Mass (kg)',\n                           y='class',\n                           color='Booster Version Category',\n                           title=f'Correlation Between Payload and Success for {entered_site}'\n                           )\n        fig_s.update_yaxes(dtick=1)\n        fig_s.update_xaxes(dtick=1000)\n        fig_s.update_layout(\n            font_size=23,\n            title_font_size=23)\n        fig_s.update_traces(marker=dict(size=12,\n                                        line=dict(width=2,\n                                                  color='DarkSlateGrey')),\n                            selector=dict(mode='markers'))\n        return fig_s\n"
        },
        {
            "cell_type": "code",
            "execution_count": 6,
            "metadata": {},
            "outputs": [
                {
                    "name": "stdout",
                    "output_type": "stream",
                    "text": "Dash is running on http://127.0.0.1:8050/\n\n * Serving Flask app '__main__' (lazy loading)\n * Environment: production\n\u001b[31m   WARNING: This is a development server. Do not use it in a production deployment.\u001b[0m\n\u001b[2m   Use a production WSGI server instead.\u001b[0m\n * Debug mode: off\n"
                },
                {
                    "name": "stderr",
                    "output_type": "stream",
                    "text": " * Running on http://127.0.0.1:8050 (Press CTRL+C to quit)\n127.0.0.1 - - [20/Jul/2022 14:59:57] \"GET / HTTP/1.1\" 200 -\n127.0.0.1 - - [20/Jul/2022 14:59:58] \"GET /_dash-layout HTTP/1.1\" 200 -\n127.0.0.1 - - [20/Jul/2022 14:59:58] \"GET /_dash-dependencies HTTP/1.1\" 200 -\n127.0.0.1 - - [20/Jul/2022 14:59:58] \"GET /_dash-component-suites/dash/dcc/async-dropdown.js HTTP/1.1\" 304 -\n127.0.0.1 - - [20/Jul/2022 14:59:58] \"GET /_dash-component-suites/dash/dcc/async-graph.js HTTP/1.1\" 304 -\n127.0.0.1 - - [20/Jul/2022 14:59:58] \"GET /_dash-component-suites/dash/dcc/async-plotlyjs.js HTTP/1.1\" 304 -\n127.0.0.1 - - [20/Jul/2022 14:59:58] \"GET /_dash-component-suites/dash/dcc/async-slider.js HTTP/1.1\" 304 -\n127.0.0.1 - - [20/Jul/2022 14:59:59] \"POST /_dash-update-component HTTP/1.1\" 200 -\n127.0.0.1 - - [20/Jul/2022 15:00:00] \"POST /_dash-update-component HTTP/1.1\" 200 -\n127.0.0.1 - - [20/Jul/2022 15:00:41] \"POST /_dash-update-component HTTP/1.1\" 200 -\n127.0.0.1 - - [20/Jul/2022 15:00:43] \"POST /_dash-update-component HTTP/1.1\" 200 -\n127.0.0.1 - - [20/Jul/2022 15:00:57] \"POST /_dash-update-component HTTP/1.1\" 200 -\n127.0.0.1 - - [20/Jul/2022 15:01:02] \"POST /_dash-update-component HTTP/1.1\" 200 -\n127.0.0.1 - - [20/Jul/2022 15:01:04] \"POST /_dash-update-component HTTP/1.1\" 200 -\n127.0.0.1 - - [20/Jul/2022 15:01:08] \"POST /_dash-update-component HTTP/1.1\" 200 -\n127.0.0.1 - - [20/Jul/2022 15:01:08] \"POST /_dash-update-component HTTP/1.1\" 200 -\n127.0.0.1 - - [20/Jul/2022 15:01:10] \"POST /_dash-update-component HTTP/1.1\" 200 -\n127.0.0.1 - - [20/Jul/2022 15:01:10] \"POST /_dash-update-component HTTP/1.1\" 200 -\n127.0.0.1 - - [20/Jul/2022 15:01:12] \"POST /_dash-update-component HTTP/1.1\" 200 -\n127.0.0.1 - - [20/Jul/2022 15:01:12] \"POST /_dash-update-component HTTP/1.1\" 200 -\n"
                }
            ],
            "source": "if __name__ == '__main__':\n    app.run_server()"
        }
    ],
    "metadata": {
        "kernelspec": {
            "display_name": "Python 3.9",
            "language": "python",
            "name": "python3"
        },
        "language_info": {
            "codemirror_mode": {
                "name": "ipython",
                "version": 3
            },
            "file_extension": ".py",
            "mimetype": "text/x-python",
            "name": "python",
            "nbconvert_exporter": "python",
            "pygments_lexer": "ipython3",
            "version": "3.9.12"
        },
        "vscode": {
            "interpreter": {
                "hash": "c63d8c7d738c2960218a10995aedf0a7f67a49a231e71037adf0440953cdb45b"
            }
        }
    },
    "nbformat": 4,
    "nbformat_minor": 2
}